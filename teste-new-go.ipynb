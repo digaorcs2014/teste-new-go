{
 "cells": [
  {
   "cell_type": "code",
   "execution_count": null,
   "id": "d5113a70",
   "metadata": {},
   "outputs": [],
   "source": [
    "# Critérios de avaliação\n",
    "# ● Organização do código e código limpo;\n",
    "# ● Organização dos commits e mensagens de commit;\n",
    "# ● Atendimento à especificação;\n",
    "# 1. Crie um repositório do Git (GitHub ou GitLab) e compartilhe com os usuários\n",
    "# seguintes:\n",
    "# ● marcelovbcfilho\n",
    "# ● gflucky\n",
    "# ● leluque\n",
    "# 2. Escreva o código de uma classe Senha, em alguma linguagem orientada a\n",
    "# objetos, com as seguintes características e funcionalidades:\n",
    "\n",
    "# a. Não utilize nenhuma função pronta da linguagem para validar força de\n",
    "# senha.\n",
    "# b. Deve existir um atributo obrigatório chamado conteúdo, com o valor da\n",
    "# senha.\n",
    "# c. Após criado um objeto de senha, ela pode ser alterada.\n",
    "# d. A senha deve seguir uma regra e, caso se tente criar ou alterar um\n",
    "# objeto com uma senha que não siga a regra, isso não deve ser\n",
    "# permitido.\n",
    "# Regra de validação de senha:\n",
    "# ● Tamanho mínimo: 10;\n",
    "# ● Tamanho máximo: 30;\n",
    "# ● Tem que ter ao menos uma letra maiúscula;\n",
    "# ● Tem que ter ao menos uma letra minúscula;\n",
    "# ● Tem que ter ao menos um número;\n",
    "# ● Tem que ter ao menos um símbolo (qualquer símbolo que não é\n",
    "# caractere nem dígito);\n",
    "# e. Deve existir um método na classe que retorna a força da senha, um\n",
    "# número de 75 a 100.\n",
    "\n",
    "# Rua Alberto Matias Ferreira, 161, QD22 LT13\n",
    "# Mogi das Cruzes -SP\n",
    "\n",
    "# (11) 93298-9996\n",
    "\n",
    "# WWW NEWGO COM BR contato@newgo com br\n",
    "\n",
    "# Descrição da Lógica para Calcular a Força da Senha\n",
    "# ● Comprimento da senha: quanto maior, mais forte (dentro do intervalo\n",
    "# permitido). Use uma escala linear para pontuar o comprimento, onde 10\n",
    "# caracteres dão a pontuação mínima e 30 caracteres dão a pontuação\n",
    "# máxima.\n",
    "# ● Padrões repetidos: descontar pontos por repetição (cada repetição\n",
    "# subtrai 1);\n",
    "# ● Descontar pontos na ocorrência de sequências previsíveis, mesmo que\n",
    "# no meio da senha (sequências previsíveis: abc, 12345, qwert, asdfg).\n",
    "# Cada aparição subtrai 1.\n"
   ]
  },
  {
   "cell_type": "code",
   "execution_count": null,
   "id": "4861cb49",
   "metadata": {},
   "outputs": [],
   "source": [
    "# Critérios de avaliação\n",
    "# ● Organização do código e código limpo;\n",
    "# ● Organização dos commits e mensagens de commit;\n",
    "# ● Atendimento à especificação;\n",
    "# 1. Crie um repositório do Git (GitHub ou GitLab) e compartilhe com os usuários\n",
    "# seguintes:\n",
    "# ● marcelovbcfilho\n",
    "# ● gflucky\n",
    "# ● leluque\n"
   ]
  },
  {
   "cell_type": "code",
   "execution_count": 14,
   "id": "44cb270e",
   "metadata": {},
   "outputs": [],
   "source": [
    "#criar usuario\n",
    "def usuario(texto):\n",
    "    nome = str(input(\"digite seu nome\" ''))\n",
    "    print(nome)\n",
    "    return\n",
    "#criar senha \n",
    "def senha(int,float,srt,carater):\n",
    "   cadastro = str(input(\"digite sua senha\"))\n",
    "# confirmar as informações de usuario e senha\n",
    "def confirmacao():\n",
    "    if confirmacao == cadastro:\n",
    "        print(\"cadastro feito com sucesso\")\n",
    "    else:(\"senha não confere\")    \n",
    "# testar o acesso\n"
   ]
  },
  {
   "cell_type": "code",
   "execution_count": null,
   "id": "0b9210d5",
   "metadata": {},
   "outputs": [],
   "source": [
    "# 2. Escreva o código de uma classe Senha, em alguma linguagem orientada a\n",
    "# objetos, com as seguintes características e funcionalidades:\n",
    "\n",
    "# a. Não utilize nenhuma função pronta da linguagem para validar força de senha\n",
    "\n",
    "    \n",
    "   \n",
    "        "
   ]
  },
  {
   "cell_type": "code",
   "execution_count": null,
   "id": "9f3a8cf1",
   "metadata": {},
   "outputs": [],
   "source": [
    "# b. Deve existir um atributo obrigatório chamado conteúdo, com o valor da\n",
    "# senha.\n",
    "conteudo = senha"
   ]
  },
  {
   "cell_type": "code",
   "execution_count": null,
   "id": "db60d062",
   "metadata": {},
   "outputs": [],
   "source": [
    "# c. Após criado um objeto de senha, ela pode ser alterada."
   ]
  },
  {
   "cell_type": "code",
   "execution_count": null,
   "id": "86f0d70a",
   "metadata": {},
   "outputs": [],
   "source": [
    "# d. A senha deve seguir uma regra e, caso se tente criar ou alterar um\n",
    "# objeto com uma senha que não siga a regra, isso não deve ser\n",
    "# permitido.   "
   ]
  },
  {
   "cell_type": "code",
   "execution_count": null,
   "id": "f84122c9",
   "metadata": {},
   "outputs": [],
   "source": [
    "# ● Tamanho mínimo: 10;\n",
    "# ● Tamanho máximo: 30;\n",
    "# ● Tem que ter ao menos uma letra maiúscula;\n",
    "# ● Tem que ter ao menos uma letra minúscula;\n",
    "# ● Tem que ter ao menos um número;\n",
    "# ● Tem que ter ao menos um símbolo (qualquer símbolo que não é\n",
    "# caractere nem dígito);\n",
    "# e. Deve existir um método na classe que retorna a força da senha, um\n",
    "# número de 75 a 100.\n",
    "\n",
    "def regraSenha():\n",
    "     for regra in senha:\n",
    "            senha>10<=31, \n",
    "            "
   ]
  }
 ],
 "metadata": {
  "kernelspec": {
   "display_name": "Python 3 (ipykernel)",
   "language": "python",
   "name": "python3"
  },
  "language_info": {
   "codemirror_mode": {
    "name": "ipython",
    "version": 3
   },
   "file_extension": ".py",
   "mimetype": "text/x-python",
   "name": "python",
   "nbconvert_exporter": "python",
   "pygments_lexer": "ipython3",
   "version": "3.9.13"
  }
 },
 "nbformat": 4,
 "nbformat_minor": 5
}
